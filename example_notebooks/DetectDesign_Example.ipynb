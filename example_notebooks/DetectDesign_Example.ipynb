{
 "cells": [
  {
   "cell_type": "markdown",
   "metadata": {},
   "source": [
    "# Import packages"
   ]
  },
  {
   "cell_type": "code",
   "execution_count": 1,
   "metadata": {},
   "outputs": [],
   "source": [
    "from detectDesign import *\n",
    "from itertools import repeat\n",
    "sns.set_style('whitegrid')\n",
    "%matplotlib inline"
   ]
  },
  {
   "cell_type": "markdown",
   "metadata": {},
   "source": [
    "# Selecting targets for T and E 2"
   ]
  },
  {
   "cell_type": "code",
   "execution_count": 2,
   "metadata": {},
   "outputs": [],
   "source": [
    "# Output details\n",
    "TARGET_CSV = True\n",
    "OFF_TARGET_CSV = True\n",
    "OUTPUT_FOLDER = '../results/F_tularensis/'\n",
    "\n",
    "\n",
    "# Target genome, name, and region\n",
    "TARGET = '../data/sequences/off_target_genomes/Ftula_LSV_genomic.fa'\n",
    "TARGET_NAME = 'F_tula'\n",
    "TARGET_REGION = [601621, 603620]\n",
    "\n",
    "\n",
    "# Target parameters\n",
    "PAIR_SHARE_STRAND = True # Checks if the pairs are on the same strand\n",
    "\n",
    "PAMS = ['NGG', 'NAG', 'NGA'] # List of acceptable PAMS for target\n",
    "PAIR_DIST = 62 # Exact distance for target pair\n",
    "PAIR_RANGE = False # When True target pairs filtered on distance between MIN_DIST and MAX_DIST instead of exact PAIR_DIST\n",
    "MAX_DIST = 200 # Maximum distance acceptable for target pairs\n",
    "MIN_DIST = 23 # Minimum distance acceptable for target pairs\n",
    "\n",
    "\n",
    "# Off-target parameters\n",
    "INCLUDE_SELF = True # Include target genome in off-target analysis\n",
    "\n",
    "GENOMES = ['../../Scratch/Joshua_Things/off_target_genomes/genome1.gb',\n",
    "           '../../Scratch/Joshua_Things/off_target_genomes/Integration Vector.gb',\n",
    "           '../../Scratch/Joshua_Things/off_target_genomes/IP_193.gb']\n",
    "\n",
    "OFF_TARGET_PAMS = ['NGG', 'NAG', 'NGA'] # List of acceptable PAMS for off-target\n",
    "HAMMING_MAX = 8\n",
    "SEED_MAX = 3\n",
    "SEED_SIZE = 8\n",
    "\n",
    "# Initialize tables\n",
    "gene_table = []\n",
    "target_table = []"
   ]
  },
  {
   "cell_type": "markdown",
   "metadata": {},
   "source": [
    "## Finding potential binding sites in target"
   ]
  },
  {
   "cell_type": "code",
   "execution_count": 3,
   "metadata": {},
   "outputs": [],
   "source": [
    "# Load in target\n",
    "target_seq = read_seq_file(TARGET)\n",
    "target_sites = find_guides_multiple_pams(target_seq, TARGET_NAME, PAMS)\n",
    "\n",
    "# Set target_sites to the sites in the region specified\n",
    "if TARGET_REGION != None:\n",
    "    target_sites = target_sites[target_sites.Start.between(TARGET_REGION[0], TARGET_REGION[1])]"
   ]
  },
  {
   "cell_type": "markdown",
   "metadata": {},
   "source": [
    "## Finding pairs of target sites\n",
    "Getting the total number of proximal sites, and extract seqs corresponding to the ideal pair distance"
   ]
  },
  {
   "cell_type": "code",
   "execution_count": 4,
   "metadata": {
    "collapsed": true
   },
   "outputs": [
    {
     "name": "stderr",
     "output_type": "stream",
     "text": [
      "/Users/joshuarollins/Dropbox (HMS)/iARPA FELIX/Task 1_Bioinformatics/Analysis/notebooks/detectDesign.py:195: FutureWarning: get_value is deprecated and will be removed in a future release. Please use .at[] or .iat[] accessors instead\n",
      "  curr = (i, coords[pos].get_value(i), coords[gen].get_value(i))\n"
     ]
    }
   ],
   "source": [
    "target_sites_gg = target_sites[target_sites['PAM'].apply(lambda x: x[1:] == 'GG')]\n",
    "target_pairs = pair_sites(target_sites_gg, MAX_DIST, MIN_DIST)\n",
    "\n",
    "target_pairs.loc[:, 'Pair_Dist'] = np.abs(target_pairs['Start_2'] - target_pairs['Start_1'])\n",
    "target_pairs.loc[:, 'Shared_Strand'] = (target_pairs['Strand_2'] == target_pairs['Strand_1'])\n",
    "\n",
    "exact_pairs = ((target_pairs.Start_1 - target_pairs.Start_2) == PAIR_DIST)\n",
    "\n",
    "if TARGET_CSV == True:\n",
    "    target_pairs.to_csv(OUTPUT_FOLDER + TARGET_NAME + '_' + str(TARGET_REGION[0]) + '_' + str(TARGET_REGION[1]) + '.csv')\n"
   ]
  },
  {
   "cell_type": "markdown",
   "metadata": {},
   "source": [
    "## For all possible pairs of guide RNAs, find potential off-targets in other genes and b. subtilis"
   ]
  },
  {
   "cell_type": "code",
   "execution_count": 5,
   "metadata": {
    "scrolled": true
   },
   "outputs": [],
   "source": [
    "if PAIR_RANGE == True:\n",
    "    dist_cond = target_pairs.Pair_Dist.between(MIN_DIST, MAX_DIST)\n",
    "else:\n",
    "    dist_cond = target_pairs.Pair_Dist == PAIR_DIST\n",
    "    \n",
    "candidate_table = target_pairs[(dist_cond) & (target_pairs.Shared_Strand == PAIR_SHARE_STRAND)]"
   ]
  },
  {
   "cell_type": "code",
   "execution_count": 6,
   "metadata": {
    "scrolled": false
   },
   "outputs": [
    {
     "data": {
      "text/html": [
       "<div>\n",
       "<style scoped>\n",
       "    .dataframe tbody tr th:only-of-type {\n",
       "        vertical-align: middle;\n",
       "    }\n",
       "\n",
       "    .dataframe tbody tr th {\n",
       "        vertical-align: top;\n",
       "    }\n",
       "\n",
       "    .dataframe thead th {\n",
       "        text-align: right;\n",
       "    }\n",
       "</style>\n",
       "<table border=\"1\" class=\"dataframe\">\n",
       "  <thead>\n",
       "    <tr style=\"text-align: right;\">\n",
       "      <th></th>\n",
       "      <th>End_1</th>\n",
       "      <th>Genome_1</th>\n",
       "      <th>Guide_1</th>\n",
       "      <th>PAM_1</th>\n",
       "      <th>Start_1</th>\n",
       "      <th>Strand_1</th>\n",
       "      <th>End_2</th>\n",
       "      <th>Genome_2</th>\n",
       "      <th>Guide_2</th>\n",
       "      <th>PAM_2</th>\n",
       "      <th>Start_2</th>\n",
       "      <th>Strand_2</th>\n",
       "      <th>Pair_Dist</th>\n",
       "      <th>Shared_Strand</th>\n",
       "    </tr>\n",
       "  </thead>\n",
       "  <tbody>\n",
       "    <tr>\n",
       "      <th>383</th>\n",
       "      <td>602749</td>\n",
       "      <td>F_tula</td>\n",
       "      <td>ATAGTAGCAACAGTAGATTT</td>\n",
       "      <td>AGG</td>\n",
       "      <td>602729</td>\n",
       "      <td>+</td>\n",
       "      <td>602687</td>\n",
       "      <td>F_tula</td>\n",
       "      <td>TTACAGATATTTTTTTATAA</td>\n",
       "      <td>TGG</td>\n",
       "      <td>602667</td>\n",
       "      <td>+</td>\n",
       "      <td>62</td>\n",
       "      <td>True</td>\n",
       "    </tr>\n",
       "    <tr>\n",
       "      <th>557</th>\n",
       "      <td>603060</td>\n",
       "      <td>F_tula</td>\n",
       "      <td>TAAAATTATTTCCGGATTGG</td>\n",
       "      <td>AGG</td>\n",
       "      <td>603040</td>\n",
       "      <td>+</td>\n",
       "      <td>602998</td>\n",
       "      <td>F_tula</td>\n",
       "      <td>AAAGCAAAAAATAATATAAA</td>\n",
       "      <td>AGG</td>\n",
       "      <td>602978</td>\n",
       "      <td>+</td>\n",
       "      <td>62</td>\n",
       "      <td>True</td>\n",
       "    </tr>\n",
       "    <tr>\n",
       "      <th>660</th>\n",
       "      <td>603201</td>\n",
       "      <td>F_tula</td>\n",
       "      <td>AATTGCGCGTAGTTTAGATA</td>\n",
       "      <td>TGG</td>\n",
       "      <td>603181</td>\n",
       "      <td>+</td>\n",
       "      <td>603139</td>\n",
       "      <td>F_tula</td>\n",
       "      <td>TTAGTCATAGATATCGGTGG</td>\n",
       "      <td>AGG</td>\n",
       "      <td>603119</td>\n",
       "      <td>+</td>\n",
       "      <td>62</td>\n",
       "      <td>True</td>\n",
       "    </tr>\n",
       "    <tr>\n",
       "      <th>695</th>\n",
       "      <td>603222</td>\n",
       "      <td>F_tula</td>\n",
       "      <td>GGGTTGTGTCGGAATGCAGA</td>\n",
       "      <td>AGG</td>\n",
       "      <td>603202</td>\n",
       "      <td>+</td>\n",
       "      <td>603160</td>\n",
       "      <td>F_tula</td>\n",
       "      <td>GGCTCAACAGAATTTGTAAT</td>\n",
       "      <td>TGG</td>\n",
       "      <td>603140</td>\n",
       "      <td>+</td>\n",
       "      <td>62</td>\n",
       "      <td>True</td>\n",
       "    </tr>\n",
       "    <tr>\n",
       "      <th>707</th>\n",
       "      <td>603273</td>\n",
       "      <td>F_tula</td>\n",
       "      <td>TGCTAATTTTCATGCAGCAG</td>\n",
       "      <td>CGG</td>\n",
       "      <td>603253</td>\n",
       "      <td>+</td>\n",
       "      <td>603211</td>\n",
       "      <td>F_tula</td>\n",
       "      <td>AGTTTAGATATGGGTTGTGT</td>\n",
       "      <td>CGG</td>\n",
       "      <td>603191</td>\n",
       "      <td>+</td>\n",
       "      <td>62</td>\n",
       "      <td>True</td>\n",
       "    </tr>\n",
       "    <tr>\n",
       "      <th>937</th>\n",
       "      <td>603580</td>\n",
       "      <td>F_tula</td>\n",
       "      <td>TCTGAGATGAGATTATCAAA</td>\n",
       "      <td>TGG</td>\n",
       "      <td>603560</td>\n",
       "      <td>+</td>\n",
       "      <td>603518</td>\n",
       "      <td>F_tula</td>\n",
       "      <td>GTGAGAGTGTCCTTGCTGGT</td>\n",
       "      <td>GGG</td>\n",
       "      <td>603498</td>\n",
       "      <td>+</td>\n",
       "      <td>62</td>\n",
       "      <td>True</td>\n",
       "    </tr>\n",
       "  </tbody>\n",
       "</table>\n",
       "</div>"
      ],
      "text/plain": [
       "      End_1 Genome_1               Guide_1 PAM_1  Start_1 Strand_1   End_2  \\\n",
       "383  602749   F_tula  ATAGTAGCAACAGTAGATTT   AGG   602729        +  602687   \n",
       "557  603060   F_tula  TAAAATTATTTCCGGATTGG   AGG   603040        +  602998   \n",
       "660  603201   F_tula  AATTGCGCGTAGTTTAGATA   TGG   603181        +  603139   \n",
       "695  603222   F_tula  GGGTTGTGTCGGAATGCAGA   AGG   603202        +  603160   \n",
       "707  603273   F_tula  TGCTAATTTTCATGCAGCAG   CGG   603253        +  603211   \n",
       "937  603580   F_tula  TCTGAGATGAGATTATCAAA   TGG   603560        +  603518   \n",
       "\n",
       "    Genome_2               Guide_2 PAM_2  Start_2 Strand_2  Pair_Dist  \\\n",
       "383   F_tula  TTACAGATATTTTTTTATAA   TGG   602667        +         62   \n",
       "557   F_tula  AAAGCAAAAAATAATATAAA   AGG   602978        +         62   \n",
       "660   F_tula  TTAGTCATAGATATCGGTGG   AGG   603119        +         62   \n",
       "695   F_tula  GGCTCAACAGAATTTGTAAT   TGG   603140        +         62   \n",
       "707   F_tula  AGTTTAGATATGGGTTGTGT   CGG   603191        +         62   \n",
       "937   F_tula  GTGAGAGTGTCCTTGCTGGT   GGG   603498        +         62   \n",
       "\n",
       "     Shared_Strand  \n",
       "383           True  \n",
       "557           True  \n",
       "660           True  \n",
       "695           True  \n",
       "707           True  \n",
       "937           True  "
      ]
     },
     "execution_count": 6,
     "metadata": {},
     "output_type": "execute_result"
    }
   ],
   "source": [
    "candidate_table "
   ]
  },
  {
   "cell_type": "markdown",
   "metadata": {},
   "source": [
    "# Off-target genomes analysis"
   ]
  },
  {
   "cell_type": "code",
   "execution_count": 7,
   "metadata": {
    "scrolled": true
   },
   "outputs": [
    {
     "name": "stdout",
     "output_type": "stream",
     "text": [
      "383 computing sites\n"
     ]
    },
    {
     "name": "stderr",
     "output_type": "stream",
     "text": [
      "/Users/joshuarollins/Dropbox (HMS)/iARPA FELIX/Task 1_Bioinformatics/Analysis/notebooks/detectDesign.py:267: FutureWarning: get_value is deprecated and will be removed in a future release. Please use .at[] or .iat[] accessors instead\n",
      "  target = guides['One_Hot'].get_value(i)\n",
      "/Users/joshuarollins/Dropbox (HMS)/iARPA FELIX/Task 1_Bioinformatics/Analysis/notebooks/detectDesign.py:273: FutureWarning: get_value is deprecated and will be removed in a future release. Please use .at[] or .iat[] accessors instead\n",
      "  scores.append(score.assign(Target_Guide=guides['Guide'].get_value(i)))\n"
     ]
    },
    {
     "name": "stdout",
     "output_type": "stream",
     "text": [
      "4856 site\n",
      "383 computing pairs\n",
      "2391 pairs\n",
      "557 computing sites\n"
     ]
    },
    {
     "name": "stderr",
     "output_type": "stream",
     "text": [
      "/Users/joshuarollins/Dropbox (HMS)/iARPA FELIX/Task 1_Bioinformatics/Analysis/notebooks/detectDesign.py:195: FutureWarning: get_value is deprecated and will be removed in a future release. Please use .at[] or .iat[] accessors instead\n",
      "  curr = (i, coords[pos].get_value(i), coords[gen].get_value(i))\n",
      "/Users/joshuarollins/Dropbox (HMS)/iARPA FELIX/Task 1_Bioinformatics/Analysis/notebooks/detectDesign.py:267: FutureWarning: get_value is deprecated and will be removed in a future release. Please use .at[] or .iat[] accessors instead\n",
      "  target = guides['One_Hot'].get_value(i)\n",
      "/Users/joshuarollins/Dropbox (HMS)/iARPA FELIX/Task 1_Bioinformatics/Analysis/notebooks/detectDesign.py:273: FutureWarning: get_value is deprecated and will be removed in a future release. Please use .at[] or .iat[] accessors instead\n",
      "  scores.append(score.assign(Target_Guide=guides['Guide'].get_value(i)))\n"
     ]
    },
    {
     "name": "stdout",
     "output_type": "stream",
     "text": [
      "4822 site\n",
      "557 computing pairs\n",
      "2516 pairs\n",
      "660 computing sites\n"
     ]
    },
    {
     "name": "stderr",
     "output_type": "stream",
     "text": [
      "/Users/joshuarollins/Dropbox (HMS)/iARPA FELIX/Task 1_Bioinformatics/Analysis/notebooks/detectDesign.py:195: FutureWarning: get_value is deprecated and will be removed in a future release. Please use .at[] or .iat[] accessors instead\n",
      "  curr = (i, coords[pos].get_value(i), coords[gen].get_value(i))\n",
      "/Users/joshuarollins/Dropbox (HMS)/iARPA FELIX/Task 1_Bioinformatics/Analysis/notebooks/detectDesign.py:267: FutureWarning: get_value is deprecated and will be removed in a future release. Please use .at[] or .iat[] accessors instead\n",
      "  target = guides['One_Hot'].get_value(i)\n",
      "/Users/joshuarollins/Dropbox (HMS)/iARPA FELIX/Task 1_Bioinformatics/Analysis/notebooks/detectDesign.py:273: FutureWarning: get_value is deprecated and will be removed in a future release. Please use .at[] or .iat[] accessors instead\n",
      "  scores.append(score.assign(Target_Guide=guides['Guide'].get_value(i)))\n"
     ]
    },
    {
     "name": "stdout",
     "output_type": "stream",
     "text": [
      "1482 site\n",
      "660 computing pairs\n",
      "250 pairs\n",
      "695 computing sites\n"
     ]
    },
    {
     "name": "stderr",
     "output_type": "stream",
     "text": [
      "/Users/joshuarollins/Dropbox (HMS)/iARPA FELIX/Task 1_Bioinformatics/Analysis/notebooks/detectDesign.py:195: FutureWarning: get_value is deprecated and will be removed in a future release. Please use .at[] or .iat[] accessors instead\n",
      "  curr = (i, coords[pos].get_value(i), coords[gen].get_value(i))\n",
      "/Users/joshuarollins/Dropbox (HMS)/iARPA FELIX/Task 1_Bioinformatics/Analysis/notebooks/detectDesign.py:267: FutureWarning: get_value is deprecated and will be removed in a future release. Please use .at[] or .iat[] accessors instead\n",
      "  target = guides['One_Hot'].get_value(i)\n",
      "/Users/joshuarollins/Dropbox (HMS)/iARPA FELIX/Task 1_Bioinformatics/Analysis/notebooks/detectDesign.py:273: FutureWarning: get_value is deprecated and will be removed in a future release. Please use .at[] or .iat[] accessors instead\n",
      "  scores.append(score.assign(Target_Guide=guides['Guide'].get_value(i)))\n"
     ]
    },
    {
     "name": "stdout",
     "output_type": "stream",
     "text": [
      "989 site\n",
      "695 computing pairs\n",
      "92 pairs\n",
      "707 computing sites\n"
     ]
    },
    {
     "name": "stderr",
     "output_type": "stream",
     "text": [
      "/Users/joshuarollins/Dropbox (HMS)/iARPA FELIX/Task 1_Bioinformatics/Analysis/notebooks/detectDesign.py:195: FutureWarning: get_value is deprecated and will be removed in a future release. Please use .at[] or .iat[] accessors instead\n",
      "  curr = (i, coords[pos].get_value(i), coords[gen].get_value(i))\n",
      "/Users/joshuarollins/Dropbox (HMS)/iARPA FELIX/Task 1_Bioinformatics/Analysis/notebooks/detectDesign.py:267: FutureWarning: get_value is deprecated and will be removed in a future release. Please use .at[] or .iat[] accessors instead\n",
      "  target = guides['One_Hot'].get_value(i)\n",
      "/Users/joshuarollins/Dropbox (HMS)/iARPA FELIX/Task 1_Bioinformatics/Analysis/notebooks/detectDesign.py:273: FutureWarning: get_value is deprecated and will be removed in a future release. Please use .at[] or .iat[] accessors instead\n",
      "  scores.append(score.assign(Target_Guide=guides['Guide'].get_value(i)))\n"
     ]
    },
    {
     "name": "stdout",
     "output_type": "stream",
     "text": [
      "1670 site\n",
      "707 computing pairs\n",
      "282 pairs\n",
      "937 computing sites\n"
     ]
    },
    {
     "name": "stderr",
     "output_type": "stream",
     "text": [
      "/Users/joshuarollins/Dropbox (HMS)/iARPA FELIX/Task 1_Bioinformatics/Analysis/notebooks/detectDesign.py:195: FutureWarning: get_value is deprecated and will be removed in a future release. Please use .at[] or .iat[] accessors instead\n",
      "  curr = (i, coords[pos].get_value(i), coords[gen].get_value(i))\n",
      "/Users/joshuarollins/Dropbox (HMS)/iARPA FELIX/Task 1_Bioinformatics/Analysis/notebooks/detectDesign.py:267: FutureWarning: get_value is deprecated and will be removed in a future release. Please use .at[] or .iat[] accessors instead\n",
      "  target = guides['One_Hot'].get_value(i)\n",
      "/Users/joshuarollins/Dropbox (HMS)/iARPA FELIX/Task 1_Bioinformatics/Analysis/notebooks/detectDesign.py:273: FutureWarning: get_value is deprecated and will be removed in a future release. Please use .at[] or .iat[] accessors instead\n",
      "  scores.append(score.assign(Target_Guide=guides['Guide'].get_value(i)))\n"
     ]
    },
    {
     "name": "stdout",
     "output_type": "stream",
     "text": [
      "1548 site\n",
      "937 computing pairs\n",
      "228 pairs\n"
     ]
    },
    {
     "name": "stderr",
     "output_type": "stream",
     "text": [
      "/Users/joshuarollins/Dropbox (HMS)/iARPA FELIX/Task 1_Bioinformatics/Analysis/notebooks/detectDesign.py:195: FutureWarning: get_value is deprecated and will be removed in a future release. Please use .at[] or .iat[] accessors instead\n",
      "  curr = (i, coords[pos].get_value(i), coords[gen].get_value(i))\n"
     ]
    },
    {
     "name": "stdout",
     "output_type": "stream",
     "text": [
      "383 computing sites\n"
     ]
    },
    {
     "name": "stderr",
     "output_type": "stream",
     "text": [
      "/Users/joshuarollins/Dropbox (HMS)/iARPA FELIX/Task 1_Bioinformatics/Analysis/notebooks/detectDesign.py:267: FutureWarning: get_value is deprecated and will be removed in a future release. Please use .at[] or .iat[] accessors instead\n",
      "  target = guides['One_Hot'].get_value(i)\n",
      "/Users/joshuarollins/Dropbox (HMS)/iARPA FELIX/Task 1_Bioinformatics/Analysis/notebooks/detectDesign.py:273: FutureWarning: get_value is deprecated and will be removed in a future release. Please use .at[] or .iat[] accessors instead\n",
      "  scores.append(score.assign(Target_Guide=guides['Guide'].get_value(i)))\n"
     ]
    },
    {
     "name": "stdout",
     "output_type": "stream",
     "text": [
      "4734 site\n",
      "383 computing pairs\n",
      "1185 pairs\n",
      "557 computing sites\n"
     ]
    },
    {
     "name": "stderr",
     "output_type": "stream",
     "text": [
      "/Users/joshuarollins/Dropbox (HMS)/iARPA FELIX/Task 1_Bioinformatics/Analysis/notebooks/detectDesign.py:195: FutureWarning: get_value is deprecated and will be removed in a future release. Please use .at[] or .iat[] accessors instead\n",
      "  curr = (i, coords[pos].get_value(i), coords[gen].get_value(i))\n",
      "/Users/joshuarollins/Dropbox (HMS)/iARPA FELIX/Task 1_Bioinformatics/Analysis/notebooks/detectDesign.py:267: FutureWarning: get_value is deprecated and will be removed in a future release. Please use .at[] or .iat[] accessors instead\n",
      "  target = guides['One_Hot'].get_value(i)\n",
      "/Users/joshuarollins/Dropbox (HMS)/iARPA FELIX/Task 1_Bioinformatics/Analysis/notebooks/detectDesign.py:273: FutureWarning: get_value is deprecated and will be removed in a future release. Please use .at[] or .iat[] accessors instead\n",
      "  scores.append(score.assign(Target_Guide=guides['Guide'].get_value(i)))\n"
     ]
    },
    {
     "name": "stdout",
     "output_type": "stream",
     "text": [
      "6747 site\n",
      "557 computing pairs\n",
      "2393 pairs\n",
      "660 computing sites\n"
     ]
    },
    {
     "name": "stderr",
     "output_type": "stream",
     "text": [
      "/Users/joshuarollins/Dropbox (HMS)/iARPA FELIX/Task 1_Bioinformatics/Analysis/notebooks/detectDesign.py:195: FutureWarning: get_value is deprecated and will be removed in a future release. Please use .at[] or .iat[] accessors instead\n",
      "  curr = (i, coords[pos].get_value(i), coords[gen].get_value(i))\n",
      "/Users/joshuarollins/Dropbox (HMS)/iARPA FELIX/Task 1_Bioinformatics/Analysis/notebooks/detectDesign.py:267: FutureWarning: get_value is deprecated and will be removed in a future release. Please use .at[] or .iat[] accessors instead\n",
      "  target = guides['One_Hot'].get_value(i)\n",
      "/Users/joshuarollins/Dropbox (HMS)/iARPA FELIX/Task 1_Bioinformatics/Analysis/notebooks/detectDesign.py:273: FutureWarning: get_value is deprecated and will be removed in a future release. Please use .at[] or .iat[] accessors instead\n",
      "  scores.append(score.assign(Target_Guide=guides['Guide'].get_value(i)))\n"
     ]
    },
    {
     "name": "stdout",
     "output_type": "stream",
     "text": [
      "1958 site\n",
      "660 computing pairs\n",
      "170 pairs\n",
      "695 computing sites\n"
     ]
    },
    {
     "name": "stderr",
     "output_type": "stream",
     "text": [
      "/Users/joshuarollins/Dropbox (HMS)/iARPA FELIX/Task 1_Bioinformatics/Analysis/notebooks/detectDesign.py:195: FutureWarning: get_value is deprecated and will be removed in a future release. Please use .at[] or .iat[] accessors instead\n",
      "  curr = (i, coords[pos].get_value(i), coords[gen].get_value(i))\n",
      "/Users/joshuarollins/Dropbox (HMS)/iARPA FELIX/Task 1_Bioinformatics/Analysis/notebooks/detectDesign.py:267: FutureWarning: get_value is deprecated and will be removed in a future release. Please use .at[] or .iat[] accessors instead\n",
      "  target = guides['One_Hot'].get_value(i)\n",
      "/Users/joshuarollins/Dropbox (HMS)/iARPA FELIX/Task 1_Bioinformatics/Analysis/notebooks/detectDesign.py:273: FutureWarning: get_value is deprecated and will be removed in a future release. Please use .at[] or .iat[] accessors instead\n",
      "  scores.append(score.assign(Target_Guide=guides['Guide'].get_value(i)))\n"
     ]
    },
    {
     "name": "stdout",
     "output_type": "stream",
     "text": [
      "2545 site\n",
      "695 computing pairs\n",
      "245 pairs\n",
      "707 computing sites\n"
     ]
    },
    {
     "name": "stderr",
     "output_type": "stream",
     "text": [
      "/Users/joshuarollins/Dropbox (HMS)/iARPA FELIX/Task 1_Bioinformatics/Analysis/notebooks/detectDesign.py:195: FutureWarning: get_value is deprecated and will be removed in a future release. Please use .at[] or .iat[] accessors instead\n",
      "  curr = (i, coords[pos].get_value(i), coords[gen].get_value(i))\n",
      "/Users/joshuarollins/Dropbox (HMS)/iARPA FELIX/Task 1_Bioinformatics/Analysis/notebooks/detectDesign.py:267: FutureWarning: get_value is deprecated and will be removed in a future release. Please use .at[] or .iat[] accessors instead\n",
      "  target = guides['One_Hot'].get_value(i)\n",
      "/Users/joshuarollins/Dropbox (HMS)/iARPA FELIX/Task 1_Bioinformatics/Analysis/notebooks/detectDesign.py:273: FutureWarning: get_value is deprecated and will be removed in a future release. Please use .at[] or .iat[] accessors instead\n",
      "  scores.append(score.assign(Target_Guide=guides['Guide'].get_value(i)))\n"
     ]
    },
    {
     "name": "stdout",
     "output_type": "stream",
     "text": [
      "2627 site\n",
      "707 computing pairs\n",
      "261 pairs\n",
      "937 computing sites\n"
     ]
    },
    {
     "name": "stderr",
     "output_type": "stream",
     "text": [
      "/Users/joshuarollins/Dropbox (HMS)/iARPA FELIX/Task 1_Bioinformatics/Analysis/notebooks/detectDesign.py:195: FutureWarning: get_value is deprecated and will be removed in a future release. Please use .at[] or .iat[] accessors instead\n",
      "  curr = (i, coords[pos].get_value(i), coords[gen].get_value(i))\n",
      "/Users/joshuarollins/Dropbox (HMS)/iARPA FELIX/Task 1_Bioinformatics/Analysis/notebooks/detectDesign.py:267: FutureWarning: get_value is deprecated and will be removed in a future release. Please use .at[] or .iat[] accessors instead\n",
      "  target = guides['One_Hot'].get_value(i)\n",
      "/Users/joshuarollins/Dropbox (HMS)/iARPA FELIX/Task 1_Bioinformatics/Analysis/notebooks/detectDesign.py:273: FutureWarning: get_value is deprecated and will be removed in a future release. Please use .at[] or .iat[] accessors instead\n",
      "  scores.append(score.assign(Target_Guide=guides['Guide'].get_value(i)))\n"
     ]
    },
    {
     "name": "stdout",
     "output_type": "stream",
     "text": [
      "2685 site\n",
      "937 computing pairs\n",
      "298 pairs\n"
     ]
    },
    {
     "name": "stderr",
     "output_type": "stream",
     "text": [
      "/Users/joshuarollins/Dropbox (HMS)/iARPA FELIX/Task 1_Bioinformatics/Analysis/notebooks/detectDesign.py:195: FutureWarning: get_value is deprecated and will be removed in a future release. Please use .at[] or .iat[] accessors instead\n",
      "  curr = (i, coords[pos].get_value(i), coords[gen].get_value(i))\n"
     ]
    },
    {
     "name": "stdout",
     "output_type": "stream",
     "text": [
      "383 computing sites\n",
      "4 site\n",
      "383 computing pairs\n",
      "0 pairs\n",
      "557 computing sites\n"
     ]
    },
    {
     "name": "stderr",
     "output_type": "stream",
     "text": [
      "/Users/joshuarollins/Dropbox (HMS)/iARPA FELIX/Task 1_Bioinformatics/Analysis/notebooks/detectDesign.py:267: FutureWarning: get_value is deprecated and will be removed in a future release. Please use .at[] or .iat[] accessors instead\n",
      "  target = guides['One_Hot'].get_value(i)\n",
      "/Users/joshuarollins/Dropbox (HMS)/iARPA FELIX/Task 1_Bioinformatics/Analysis/notebooks/detectDesign.py:273: FutureWarning: get_value is deprecated and will be removed in a future release. Please use .at[] or .iat[] accessors instead\n",
      "  scores.append(score.assign(Target_Guide=guides['Guide'].get_value(i)))\n",
      "/Users/joshuarollins/Dropbox (HMS)/iARPA FELIX/Task 1_Bioinformatics/Analysis/notebooks/detectDesign.py:195: FutureWarning: get_value is deprecated and will be removed in a future release. Please use .at[] or .iat[] accessors instead\n",
      "  curr = (i, coords[pos].get_value(i), coords[gen].get_value(i))\n",
      "/Users/joshuarollins/Dropbox (HMS)/iARPA FELIX/Task 1_Bioinformatics/Analysis/notebooks/detectDesign.py:267: FutureWarning: get_value is deprecated and will be removed in a future release. Please use .at[] or .iat[] accessors instead\n",
      "  target = guides['One_Hot'].get_value(i)\n",
      "/Users/joshuarollins/Dropbox (HMS)/iARPA FELIX/Task 1_Bioinformatics/Analysis/notebooks/detectDesign.py:273: FutureWarning: get_value is deprecated and will be removed in a future release. Please use .at[] or .iat[] accessors instead\n",
      "  scores.append(score.assign(Target_Guide=guides['Guide'].get_value(i)))\n",
      "/Users/joshuarollins/Dropbox (HMS)/iARPA FELIX/Task 1_Bioinformatics/Analysis/notebooks/detectDesign.py:195: FutureWarning: get_value is deprecated and will be removed in a future release. Please use .at[] or .iat[] accessors instead\n",
      "  curr = (i, coords[pos].get_value(i), coords[gen].get_value(i))\n",
      "/Users/joshuarollins/Dropbox (HMS)/iARPA FELIX/Task 1_Bioinformatics/Analysis/notebooks/detectDesign.py:267: FutureWarning: get_value is deprecated and will be removed in a future release. Please use .at[] or .iat[] accessors instead\n",
      "  target = guides['One_Hot'].get_value(i)\n"
     ]
    },
    {
     "name": "stdout",
     "output_type": "stream",
     "text": [
      "9 site\n",
      "557 computing pairs\n",
      "0 pairs\n",
      "660 computing sites\n",
      "3 site\n",
      "660 computing pairs\n",
      "0 pairs\n",
      "695 computing sites\n",
      "2 site\n",
      "695 computing pairs\n",
      "0 pairs\n",
      "707 computing sites\n"
     ]
    },
    {
     "name": "stderr",
     "output_type": "stream",
     "text": [
      "/Users/joshuarollins/Dropbox (HMS)/iARPA FELIX/Task 1_Bioinformatics/Analysis/notebooks/detectDesign.py:273: FutureWarning: get_value is deprecated and will be removed in a future release. Please use .at[] or .iat[] accessors instead\n",
      "  scores.append(score.assign(Target_Guide=guides['Guide'].get_value(i)))\n",
      "/Users/joshuarollins/Dropbox (HMS)/iARPA FELIX/Task 1_Bioinformatics/Analysis/notebooks/detectDesign.py:195: FutureWarning: get_value is deprecated and will be removed in a future release. Please use .at[] or .iat[] accessors instead\n",
      "  curr = (i, coords[pos].get_value(i), coords[gen].get_value(i))\n",
      "/Users/joshuarollins/Dropbox (HMS)/iARPA FELIX/Task 1_Bioinformatics/Analysis/notebooks/detectDesign.py:267: FutureWarning: get_value is deprecated and will be removed in a future release. Please use .at[] or .iat[] accessors instead\n",
      "  target = guides['One_Hot'].get_value(i)\n",
      "/Users/joshuarollins/Dropbox (HMS)/iARPA FELIX/Task 1_Bioinformatics/Analysis/notebooks/detectDesign.py:273: FutureWarning: get_value is deprecated and will be removed in a future release. Please use .at[] or .iat[] accessors instead\n",
      "  scores.append(score.assign(Target_Guide=guides['Guide'].get_value(i)))\n",
      "/Users/joshuarollins/Dropbox (HMS)/iARPA FELIX/Task 1_Bioinformatics/Analysis/notebooks/detectDesign.py:195: FutureWarning: get_value is deprecated and will be removed in a future release. Please use .at[] or .iat[] accessors instead\n",
      "  curr = (i, coords[pos].get_value(i), coords[gen].get_value(i))\n",
      "/Users/joshuarollins/Dropbox (HMS)/iARPA FELIX/Task 1_Bioinformatics/Analysis/notebooks/detectDesign.py:267: FutureWarning: get_value is deprecated and will be removed in a future release. Please use .at[] or .iat[] accessors instead\n",
      "  target = guides['One_Hot'].get_value(i)\n",
      "/Users/joshuarollins/Dropbox (HMS)/iARPA FELIX/Task 1_Bioinformatics/Analysis/notebooks/detectDesign.py:273: FutureWarning: get_value is deprecated and will be removed in a future release. Please use .at[] or .iat[] accessors instead\n",
      "  scores.append(score.assign(Target_Guide=guides['Guide'].get_value(i)))\n"
     ]
    },
    {
     "name": "stdout",
     "output_type": "stream",
     "text": [
      "3 site\n",
      "707 computing pairs\n",
      "0 pairs\n",
      "937 computing sites\n",
      "5 site\n",
      "937 computing pairs\n",
      "0 pairs\n",
      "383 computing sites\n"
     ]
    },
    {
     "name": "stderr",
     "output_type": "stream",
     "text": [
      "/Users/joshuarollins/Dropbox (HMS)/iARPA FELIX/Task 1_Bioinformatics/Analysis/notebooks/detectDesign.py:195: FutureWarning: get_value is deprecated and will be removed in a future release. Please use .at[] or .iat[] accessors instead\n",
      "  curr = (i, coords[pos].get_value(i), coords[gen].get_value(i))\n",
      "/Users/joshuarollins/Dropbox (HMS)/iARPA FELIX/Task 1_Bioinformatics/Analysis/notebooks/detectDesign.py:267: FutureWarning: get_value is deprecated and will be removed in a future release. Please use .at[] or .iat[] accessors instead\n",
      "  target = guides['One_Hot'].get_value(i)\n",
      "/Users/joshuarollins/Dropbox (HMS)/iARPA FELIX/Task 1_Bioinformatics/Analysis/notebooks/detectDesign.py:273: FutureWarning: get_value is deprecated and will be removed in a future release. Please use .at[] or .iat[] accessors instead\n",
      "  scores.append(score.assign(Target_Guide=guides['Guide'].get_value(i)))\n",
      "/Users/joshuarollins/Dropbox (HMS)/iARPA FELIX/Task 1_Bioinformatics/Analysis/notebooks/detectDesign.py:195: FutureWarning: get_value is deprecated and will be removed in a future release. Please use .at[] or .iat[] accessors instead\n",
      "  curr = (i, coords[pos].get_value(i), coords[gen].get_value(i))\n",
      "/Users/joshuarollins/Dropbox (HMS)/iARPA FELIX/Task 1_Bioinformatics/Analysis/notebooks/detectDesign.py:267: FutureWarning: get_value is deprecated and will be removed in a future release. Please use .at[] or .iat[] accessors instead\n",
      "  target = guides['One_Hot'].get_value(i)\n",
      "/Users/joshuarollins/Dropbox (HMS)/iARPA FELIX/Task 1_Bioinformatics/Analysis/notebooks/detectDesign.py:273: FutureWarning: get_value is deprecated and will be removed in a future release. Please use .at[] or .iat[] accessors instead\n",
      "  scores.append(score.assign(Target_Guide=guides['Guide'].get_value(i)))\n",
      "/Users/joshuarollins/Dropbox (HMS)/iARPA FELIX/Task 1_Bioinformatics/Analysis/notebooks/detectDesign.py:195: FutureWarning: get_value is deprecated and will be removed in a future release. Please use .at[] or .iat[] accessors instead\n",
      "  curr = (i, coords[pos].get_value(i), coords[gen].get_value(i))\n",
      "/Users/joshuarollins/Dropbox (HMS)/iARPA FELIX/Task 1_Bioinformatics/Analysis/notebooks/detectDesign.py:267: FutureWarning: get_value is deprecated and will be removed in a future release. Please use .at[] or .iat[] accessors instead\n",
      "  target = guides['One_Hot'].get_value(i)\n",
      "/Users/joshuarollins/Dropbox (HMS)/iARPA FELIX/Task 1_Bioinformatics/Analysis/notebooks/detectDesign.py:273: FutureWarning: get_value is deprecated and will be removed in a future release. Please use .at[] or .iat[] accessors instead\n",
      "  scores.append(score.assign(Target_Guide=guides['Guide'].get_value(i)))\n",
      "/Users/joshuarollins/Dropbox (HMS)/iARPA FELIX/Task 1_Bioinformatics/Analysis/notebooks/detectDesign.py:195: FutureWarning: get_value is deprecated and will be removed in a future release. Please use .at[] or .iat[] accessors instead\n",
      "  curr = (i, coords[pos].get_value(i), coords[gen].get_value(i))\n",
      "/Users/joshuarollins/Dropbox (HMS)/iARPA FELIX/Task 1_Bioinformatics/Analysis/notebooks/detectDesign.py:267: FutureWarning: get_value is deprecated and will be removed in a future release. Please use .at[] or .iat[] accessors instead\n",
      "  target = guides['One_Hot'].get_value(i)\n",
      "/Users/joshuarollins/Dropbox (HMS)/iARPA FELIX/Task 1_Bioinformatics/Analysis/notebooks/detectDesign.py:273: FutureWarning: get_value is deprecated and will be removed in a future release. Please use .at[] or .iat[] accessors instead\n",
      "  scores.append(score.assign(Target_Guide=guides['Guide'].get_value(i)))\n"
     ]
    },
    {
     "name": "stdout",
     "output_type": "stream",
     "text": [
      "4 site\n",
      "383 computing pairs\n",
      "0 pairs\n",
      "557 computing sites\n",
      "9 site\n",
      "557 computing pairs\n",
      "0 pairs\n",
      "660 computing sites\n",
      "3 site\n",
      "660 computing pairs\n",
      "0 pairs\n",
      "695 computing sites\n"
     ]
    },
    {
     "name": "stderr",
     "output_type": "stream",
     "text": [
      "/Users/joshuarollins/Dropbox (HMS)/iARPA FELIX/Task 1_Bioinformatics/Analysis/notebooks/detectDesign.py:195: FutureWarning: get_value is deprecated and will be removed in a future release. Please use .at[] or .iat[] accessors instead\n",
      "  curr = (i, coords[pos].get_value(i), coords[gen].get_value(i))\n",
      "/Users/joshuarollins/Dropbox (HMS)/iARPA FELIX/Task 1_Bioinformatics/Analysis/notebooks/detectDesign.py:267: FutureWarning: get_value is deprecated and will be removed in a future release. Please use .at[] or .iat[] accessors instead\n",
      "  target = guides['One_Hot'].get_value(i)\n",
      "/Users/joshuarollins/Dropbox (HMS)/iARPA FELIX/Task 1_Bioinformatics/Analysis/notebooks/detectDesign.py:273: FutureWarning: get_value is deprecated and will be removed in a future release. Please use .at[] or .iat[] accessors instead\n",
      "  scores.append(score.assign(Target_Guide=guides['Guide'].get_value(i)))\n",
      "/Users/joshuarollins/Dropbox (HMS)/iARPA FELIX/Task 1_Bioinformatics/Analysis/notebooks/detectDesign.py:195: FutureWarning: get_value is deprecated and will be removed in a future release. Please use .at[] or .iat[] accessors instead\n",
      "  curr = (i, coords[pos].get_value(i), coords[gen].get_value(i))\n",
      "/Users/joshuarollins/Dropbox (HMS)/iARPA FELIX/Task 1_Bioinformatics/Analysis/notebooks/detectDesign.py:267: FutureWarning: get_value is deprecated and will be removed in a future release. Please use .at[] or .iat[] accessors instead\n",
      "  target = guides['One_Hot'].get_value(i)\n",
      "/Users/joshuarollins/Dropbox (HMS)/iARPA FELIX/Task 1_Bioinformatics/Analysis/notebooks/detectDesign.py:273: FutureWarning: get_value is deprecated and will be removed in a future release. Please use .at[] or .iat[] accessors instead\n",
      "  scores.append(score.assign(Target_Guide=guides['Guide'].get_value(i)))\n",
      "/Users/joshuarollins/Dropbox (HMS)/iARPA FELIX/Task 1_Bioinformatics/Analysis/notebooks/detectDesign.py:195: FutureWarning: get_value is deprecated and will be removed in a future release. Please use .at[] or .iat[] accessors instead\n",
      "  curr = (i, coords[pos].get_value(i), coords[gen].get_value(i))\n",
      "/Users/joshuarollins/Dropbox (HMS)/iARPA FELIX/Task 1_Bioinformatics/Analysis/notebooks/detectDesign.py:267: FutureWarning: get_value is deprecated and will be removed in a future release. Please use .at[] or .iat[] accessors instead\n",
      "  target = guides['One_Hot'].get_value(i)\n",
      "/Users/joshuarollins/Dropbox (HMS)/iARPA FELIX/Task 1_Bioinformatics/Analysis/notebooks/detectDesign.py:273: FutureWarning: get_value is deprecated and will be removed in a future release. Please use .at[] or .iat[] accessors instead\n",
      "  scores.append(score.assign(Target_Guide=guides['Guide'].get_value(i)))\n"
     ]
    },
    {
     "name": "stdout",
     "output_type": "stream",
     "text": [
      "2 site\n",
      "695 computing pairs\n",
      "0 pairs\n",
      "707 computing sites\n",
      "3 site\n",
      "707 computing pairs\n",
      "0 pairs\n",
      "937 computing sites\n",
      "5 site\n",
      "937 computing pairs\n",
      "0 pairs\n"
     ]
    },
    {
     "name": "stderr",
     "output_type": "stream",
     "text": [
      "/Users/joshuarollins/Dropbox (HMS)/iARPA FELIX/Task 1_Bioinformatics/Analysis/notebooks/detectDesign.py:195: FutureWarning: get_value is deprecated and will be removed in a future release. Please use .at[] or .iat[] accessors instead\n",
      "  curr = (i, coords[pos].get_value(i), coords[gen].get_value(i))\n"
     ]
    }
   ],
   "source": [
    "if INCLUDE_SELF == True:\n",
    "    GENOMES = [TARGET] + GENOMES\n",
    "    \n",
    "genome_list = [(read_seq_file(g), g.split('/')[-1]) for g in GENOMES]\n",
    "off_target_results = list(map(off_target_analysis, repeat(candidate_table), genome_list, repeat(HAMMING_MAX), repeat(SEED_MAX), repeat(SEED_SIZE), repeat(OFF_TARGET_PAMS)))"
   ]
  },
  {
   "cell_type": "code",
   "execution_count": 8,
   "metadata": {},
   "outputs": [],
   "source": [
    "for i in candidate_table.index:\n",
    "    pair_i_pd_list = []\n",
    "    for g in range(len(genome_list)):\n",
    "        if len(off_target_results[g][i]) > 0:\n",
    "            pair_i_pd_list.append(off_target_results[g][i])\n",
    "        \n",
    "    pair_i_pd = pd.concat(pair_i_pd_list, axis=0)\n",
    "    \n",
    "    if OFF_TARGET_CSV == True:\n",
    "        pair_i_pd.drop(columns=['Seed_One_Hot_1', 'Seed_One_Hot_2'], inplace=True) \n",
    "        pair_i_pd.drop_duplicates(['Start_1', 'Genome_1', 'Genome_2', 'Start_2'], keep='first', inplace=True)\n",
    "        pair_i_pd = pair_i_pd.sort_values(['Full_Mism_1', 'Seed_Mism_1', 'Full_Mism_2', 'Seed_Mism_2'], ascending=True)\n",
    "        pair_i_pd.to_csv(OUTPUT_FOLDER + TARGET_NAME + '_pair_' + str(i) + '.csv')"
   ]
  }
 ],
 "metadata": {
  "kernelspec": {
   "display_name": "Python 3",
   "language": "python",
   "name": "python3"
  },
  "language_info": {
   "codemirror_mode": {
    "name": "ipython",
    "version": 3
   },
   "file_extension": ".py",
   "mimetype": "text/x-python",
   "name": "python",
   "nbconvert_exporter": "python",
   "pygments_lexer": "ipython3",
   "version": "3.7.4"
  }
 },
 "nbformat": 4,
 "nbformat_minor": 2
}
